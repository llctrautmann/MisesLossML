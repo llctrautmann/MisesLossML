{
 "cells": [
  {
   "cell_type": "code",
   "execution_count": 3,
   "metadata": {},
   "outputs": [],
   "source": [
    "from dataclasses import dataclass, Field"
   ]
  },
  {
   "cell_type": "code",
   "execution_count": null,
   "metadata": {},
   "outputs": [],
   "source": [
    "@dataclass\n",
    "class HyperParams:\n",
    "    # Model parameters\n",
    "    \n",
    "\n",
    "\n",
    "    # Dataloadin parameters\n",
    "\n",
    "\n",
    "    # Training parameters\n",
    "\n",
    "\n",
    "    # Optimizer parameters\n",
    "\n",
    "\n",
    "    # Scheduler parameters\n",
    "\n",
    "\n",
    "    # Loss parameters\n",
    "\n",
    "\n",
    "    # Other parameters"
   ]
  }
 ],
 "metadata": {
  "kernelspec": {
   "display_name": ".venv",
   "language": "python",
   "name": "python3"
  },
  "language_info": {
   "codemirror_mode": {
    "name": "ipython",
    "version": 3
   },
   "file_extension": ".py",
   "mimetype": "text/x-python",
   "name": "python",
   "nbconvert_exporter": "python",
   "pygments_lexer": "ipython3",
   "version": "3.10.1"
  },
  "orig_nbformat": 4
 },
 "nbformat": 4,
 "nbformat_minor": 2
}
